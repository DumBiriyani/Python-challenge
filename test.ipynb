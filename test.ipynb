{
 "cells": [
  {
   "cell_type": "code",
   "execution_count": null,
   "metadata": {},
   "outputs": [],
   "source": [
    "import csv\n",
    "def load_regions(state_filename):\n",
    "    states_dict = dict()\n",
    "\n",
    "    with open(state_filename, 'r') as f:\n",
    "        header = f.readline()\n",
    "        for line in csv.reader(f, skipinitialspace=True):\n",
    "            states_dict[line[1]] = int(line[3])\n",
    "\n",
    "    return states_dict\n",
    "\n",
    "def load_borders(border_filename, state_filename):\n",
    "    dic_states = load_regions(state_filename)\n",
    "    dic_borders = {}\n",
    "    with open('border_data.csv', 'r') as f:\n",
    "        header = f.readline()\n",
    "        for line in csv.reader(f, skipinitialspace=True):\n",
    "            states = list(line[1].split('-'))\n",
    "            if states[0] in dic_states and states[1] in dic_states:\n",
    "                if states[0] in dic_borders:\n",
    "                    dic_borders[states[0]].append(states[1])\n",
    "                else:\n",
    "                    dic_borders[states[0]] = [states[1]]\n",
    "                states.reverse()\n",
    "                if dic_borders.get(states[0], 0) == 0:\n",
    "                    dic_borders[states[0]] = [states[1]]\n",
    "                else:\n",
    "                    dic_borders[states[0]].append(states[1])\n",
    "    dic_states = {k:v for k,v in dic_states.items() if k in dic_borders.keys()}\n",
    "    return dic_borders, dic_states"
   ]
  },
  {
   "cell_type": "code",
   "execution_count": 2,
   "metadata": {},
   "outputs": [
    {
     "data": {
      "text/plain": [
       "{'AX', 'CA', 'PL'}"
      ]
     },
     "execution_count": 2,
     "metadata": {},
     "output_type": "execute_result"
    }
   ],
   "source": [
    "set(['CA','AX','PL'])"
   ]
  },
  {
   "cell_type": "code",
   "execution_count": null,
   "metadata": {},
   "outputs": [],
   "source": [
    "b,s = load_borders(\"border_data.csv\",\"usstates.csv\",)"
   ]
  },
  {
   "cell_type": "code",
   "execution_count": null,
   "metadata": {},
   "outputs": [],
   "source": [
    "def remove_neighbor_subsequence(nation: tuple, borders: dict):\n",
    "    sub = list(nation)\n",
    "    i = sub[0]\n",
    "    sub.pop(0)\n",
    "    nation = set(nation)\n",
    "    path = [i]\n",
    "    for j in sub:\n",
    "        neighbor_list = borders[j]\n",
    "        if i in neighbor_list:\n",
    "            path+=[j]\n",
    "    return path, nation.difference(path)\n",
    "\n",
    "def get_neighbor_sets(nation, borders):\n",
    "    neighbor_set_list = []\n",
    "    while len(nation):\n",
    "        path, nation = remove_neighbor_subsequence(nation, borders)\n",
    "        neighbor_set_list.append(path)\n",
    "    return neighbor_set_list\n",
    "\n",
    "def valid_nation_check(nation, borders):\n",
    "    neighbor_set_list = get_neighbor_sets(nation, borders)\n",
    "    # Any of the j not all of the I\n",
    "    link_cutoff = len(neighbor_set_list)-1\n",
    "    print(neighbor_set_list)\n",
    "    link_ctr = 0\n",
    "    nation_link_set = set()\n",
    "    matched_pairs = []\n",
    "    for i in neighbor_set_list:\n",
    "        n_list = set([n for x in i for n in borders[x]])\n",
    "        sub = neighbor_set_list.copy()\n",
    "        sub.remove(i)\n",
    "        for j in sub:\n",
    "            pairs = [{a,b} for a in i for b in j]\n",
    "            if any(n in j for n in n_list): #and any(y not in matched_pairs for y in pairs):\n",
    "                link_ctr+=1\n",
    "                nation_link_set.update(j)\n",
    "                nation_link_set.update(i)\n",
    "                print(nation_link_set)\n",
    "                matched_pairs+=pairs\n",
    "                break\n",
    "    return nation_link_set==set(nation) # and link_ctr >= link_cutoff"
   ]
  },
  {
   "cell_type": "code",
   "execution_count": null,
   "metadata": {},
   "outputs": [],
   "source": [
    "def check_combo(pot_nations: tuple, borders: dict):\n",
    "    pot_nation_list = [i for i in pot_nations]\n",
    "    for i in pot_nation_list:\n",
    "        excl = pot_nation_list.copy()\n",
    "        excl.remove(i)\n",
    "        excl_neighbors = set([n for x in excl for n in borders[x]])\n",
    "        if i not in excl_neighbors:\n",
    "            return False\n",
    "    return True"
   ]
  },
  {
   "cell_type": "code",
   "execution_count": null,
   "metadata": {},
   "outputs": [],
   "source": [
    "t = [('PA', 'NY', 'MO', 'FL', 'TX', 'MT'), \n",
    "('NJ', 'NH', 'MO', 'AR', 'TX', 'CA'), \n",
    "('CT', 'NH', 'IL', 'MO', 'FL', 'CA'), \n",
    "('NY', 'VT', 'IL', 'MO', 'CA', 'MT'), \n",
    "('KY', 'AL', 'MO', 'TX', 'CA', 'OR'), \n",
    "('MO', 'TX', 'CA', 'CO', 'OK', 'AZ'),\n",
    "('PA', 'MA', 'NY', 'CA', 'OR', 'WA'),\n",
    "('PA', 'NY', 'OH', 'IN', 'IL', 'CA'),\n",
    "('PA', 'OH', 'IN', 'MI', 'WI', 'CA'),\n",
    "('PA', 'VA', 'KY', 'OH', 'IN', 'CA'),\n",
    "('PA', 'KY', 'OH', 'IN', 'MI', 'CA')]\n",
    "# for i in t:\n",
    "#     if valid_nation_check(i, b):\n",
    "#         print(i)\n",
    "# valid_nation_check(t[-5], b)\n",
    "for i in t:\n",
    "    if check_combo(i, borders=b):\n",
    "        print(i)"
   ]
  },
  {
   "cell_type": "code",
   "execution_count": null,
   "metadata": {},
   "outputs": [],
   "source": [
    "paths = [{'CA','AZ'},{'AZ','TX'}]\n",
    "\n",
    "def find_paths(n, paths, borders):\n",
    "    new_paths = paths.copy()\n",
    "    for s in paths:\n",
    "        s2 = s.copy()\n",
    "        for i in s:\n",
    "            new_paths += [s2.union([n]) for n in b[i]]\n",
    "        # p2 = list(set(p2))\n",
    "    new_paths = [n for n in new_paths if len(n)==len(paths[0])+1]\n",
    "    if len(new_paths[0])==n:\n",
    "        return new_paths\n",
    "    else:\n",
    "        find_paths(n, new_paths, borders)\n",
    "\n",
    "nat = find_paths(6, [{'CA'}], b)\n",
    "nat"
   ]
  },
  {
   "cell_type": "code",
   "execution_count": 72,
   "metadata": {},
   "outputs": [],
   "source": [
    "nat"
   ]
  },
  {
   "cell_type": "code",
   "execution_count": null,
   "metadata": {},
   "outputs": [],
   "source": [
    "### UTIL FUNCTIONS\n",
    "\n",
    "from itertools import permutations\n",
    "\n",
    "def check_path(path, borders):\n",
    "    for i in range(1,len(path)-1):\n",
    "        if path[i] not in borders[path[i-1]] or path[i] not in borders[path[i+1]]:\n",
    "            return False\n",
    "    return True\n",
    "\n",
    "def valid_nation_check(nation: tuple, borders: dict):\n",
    "    paths = list(permutations(nation, len(nation)))\n",
    "    for path in paths:\n",
    "        if check_path(path, borders):\n",
    "            return True\n",
    "        return False"
   ]
  },
  {
   "cell_type": "code",
   "execution_count": 1,
   "metadata": {},
   "outputs": [
    {
     "data": {
      "text/plain": [
       "(1, 2, 3)"
      ]
     },
     "execution_count": 1,
     "metadata": {},
     "output_type": "execute_result"
    }
   ],
   "source": [
    "tuple({1,2,3})"
   ]
  },
  {
   "cell_type": "code",
   "execution_count": 5,
   "metadata": {},
   "outputs": [
    {
     "data": {
      "text/plain": [
       "{1, 2}"
      ]
     },
     "execution_count": 5,
     "metadata": {},
     "output_type": "execute_result"
    }
   ],
   "source": [
    "p = set((1,2))\n",
    "p.union(set((2,1)))\n",
    "p"
   ]
  },
  {
   "cell_type": "code",
   "execution_count": 2,
   "metadata": {},
   "outputs": [
    {
     "data": {
      "text/plain": [
       "False"
      ]
     },
     "execution_count": 2,
     "metadata": {},
     "output_type": "execute_result"
    }
   ],
   "source": [
    "a = [[1,2],[1,2]]\n",
    "\n",
    "any([len(i)>2 for i in a])"
   ]
  },
  {
   "cell_type": "code",
   "execution_count": null,
   "metadata": {},
   "outputs": [],
   "source": []
  }
 ],
 "metadata": {
  "kernelspec": {
   "display_name": "Python 3.10.5 64-bit",
   "language": "python",
   "name": "python3"
  },
  "language_info": {
   "codemirror_mode": {
    "name": "ipython",
    "version": 3
   },
   "file_extension": ".py",
   "mimetype": "text/x-python",
   "name": "python",
   "nbconvert_exporter": "python",
   "pygments_lexer": "ipython3",
   "version": "3.10.5"
  },
  "orig_nbformat": 4,
  "vscode": {
   "interpreter": {
    "hash": "5290aa75faf23a16319909e19adc2cd8a2a5bf93f1976f81386266c3c2bf7942"
   }
  }
 },
 "nbformat": 4,
 "nbformat_minor": 2
}
